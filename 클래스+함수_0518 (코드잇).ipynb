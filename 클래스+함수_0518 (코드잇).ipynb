{
 "cells": [
  {
   "cell_type": "code",
   "execution_count": null,
   "id": "c8bbf8d6",
   "metadata": {},
   "outputs": [],
   "source": [
    "def add_print_to(original):\n",
    "    def wrapper():\n",
    "        print('함수시작')\n",
    "        original()\n",
    "        print('함수끝')\n",
    "    return wrapper\n",
    "        \n",
    "@add_print_to\n",
    "def function1():\n",
    "    pass\n",
    "    \n",
    "@add_print_to    \n",
    "def function2():\n",
    "    pass\n",
    "    \n",
    "@add_print_to\n",
    "def function3():\n",
    "    pass\n",
    "    "
   ]
  },
  {
   "cell_type": "code",
   "execution_count": 1,
   "id": "e4aad5b1",
   "metadata": {},
   "outputs": [
    {
     "name": "stdout",
     "output_type": "stream",
     "text": [
      "사용자 수는 4 입니다\n",
      "사용자 수는 4 입니다\n"
     ]
    }
   ],
   "source": [
    "#인스턴스 메소드를 사용하지 않으면.\n",
    "class User:\n",
    "    count  = 0\n",
    "    \n",
    "    def __init__(self, name, email, password):\n",
    "        self.name = name\n",
    "        self.email = email\n",
    "        self.password = password\n",
    "        User.count += 1\n",
    "    \n",
    "    def say_hello(self):\n",
    "        print(f'안녕하세요 저는 {self.name}입니다.')\n",
    "    def __str__(self):\n",
    "        return '사용자: {self.name}, 이메일 {self.email}, 비밀번호: {password}'\n",
    "    \n",
    "    \n",
    "    @classmethod\n",
    "    def number_of_users(cls):\n",
    "        print(f'사용자 수는 {cls.count} 입니다')\n",
    "#     def number_of_users(self):\n",
    "#         print(f'사용자 수는 {User.count} 입니다') \n",
    " \n",
    "\n",
    "    \n",
    "    \n",
    "    \n",
    "user1 = User('모모', 'aaa@gmail.com', '1111')\n",
    "user2 = User('마요', 'bbb@gmail.com', '2222')\n",
    "user3 = User('용용', 'ccc@gmail.com', '3333')\n",
    "user4 = User('주영', 'ddd@gmail.com', '4444')\n",
    "\n",
    "#클래스 메소드 사용\n",
    "User.number_of_users()\n",
    "user1.number_of_users()\n",
    "# User.number_of_users(user1)\n"
   ]
  },
  {
   "cell_type": "code",
   "execution_count": null,
   "id": "5743e90b",
   "metadata": {},
   "outputs": [],
   "source": [
    "#실습\n",
    "\n",
    "# class User:\n",
    "#     def __init__(self, name, email, password):\n",
    "#         self.name = name\n",
    "#         self.email = email\n",
    "#         self.password = password\n",
    "        \n",
    "info_string = \"강영훈,younghoon@codeit.kr,123456\"\n",
    "info_list = [\"이윤수\", \"yoonsoo@codeit.kr\", \"abcdef\\\n",
    "\n",
    "# 유저 인스턴스 만들기 (1): 문자열로 인스턴스 만들기\n",
    "             \n",
    "parameter_list = info_string.split(\",\") # split 메소드를 사용해서 쉼표(,)를 기준으로 문자열을 리스트로 분리한다\n",
    "\n",
    "# 각 변수에 분리된 문자열 각각 저장\n",
    "younghoon_name = parameter_list[0]\n",
    "younghoon_email = parameter_list[1]\n",
    "younghoon_password = parameter_list[2]\n",
    "\n",
    "younghoon = User(younghoon_name, younghoon_email, younghoon_password)\n",
    "\n",
    "# 유저 인스턴스 만들기 (2): 리스트로 인스턴스 만들기\n",
    "yoonsoo_name = info_list[0]\n",
    "yoonsoo_email = info_list[1]\n",
    "yoonsoo_password = info_list[2]\n",
    "\n",
    "yoonsoo = User(yoonsoo_name, yoonsoo_email, yoonsoo_password)\n",
    "\n",
    "# 인스턴스가 제대로 생성되었는지 확인\n",
    "print(younghoon.name, younghoon.email, younghoon.password)\n",
    "print(yoonsoo.name, yoonsoo.email, yoonsoo.password)"
   ]
  },
  {
   "cell_type": "markdown",
   "id": "c07cec37",
   "metadata": {},
   "source": []
  },
  {
   "cell_type": "code",
   "execution_count": 3,
   "id": "4d2b9f0d",
   "metadata": {},
   "outputs": [
    {
     "name": "stdout",
     "output_type": "stream",
     "text": [
      "<class '__main__.User'>\n",
      "<class 'int'>\n",
      "<class 'str'>\n",
      "<class 'list'>\n",
      "<class 'dict'>\n",
      "<class 'tuple'>\n"
     ]
    }
   ],
   "source": [
    "class User:\n",
    "    def __init__(self, name, email, password):\n",
    "        self.name = name\n",
    "        self.email = email\n",
    "        self.passwsord = password\n",
    "    def say_hello(self):\n",
    "        print(f'안녕하세요 저는{self.name}입니다.')\n",
    "        \n",
    "user1 = User('용용', 'aaa@gmail.com', '1111')\n",
    "\n",
    "print(type(user1))\n",
    "\n",
    "print(type(2))\n",
    "print(type('string'))\n",
    "print(type([]))\n",
    "print(type({}))\n",
    "print(type(()))\n"
   ]
  },
  {
   "cell_type": "code",
   "execution_count": 6,
   "id": "797228ca",
   "metadata": {},
   "outputs": [
    {
     "name": "stdout",
     "output_type": "stream",
     "text": [
      "[1]\n"
     ]
    }
   ],
   "source": [
    "list = []\n",
    "list.append(1)\n",
    "print(list)"
   ]
  },
  {
   "cell_type": "code",
   "execution_count": 7,
   "id": "81935820",
   "metadata": {},
   "outputs": [
    {
     "name": "stdout",
     "output_type": "stream",
     "text": [
      "[1, 2, 5, 4]\n"
     ]
    }
   ],
   "source": [
    "def change_list(list_parameter):\n",
    "    list_parameter[2] = 5\n",
    "\n",
    "list_x = [1, 2, 3, 4]\n",
    "\n",
    "change_list(list_x)\n",
    "print(list_x)"
   ]
  },
  {
   "cell_type": "code",
   "execution_count": 17,
   "id": "37e8860a",
   "metadata": {},
   "outputs": [
    {
     "name": "stdout",
     "output_type": "stream",
     "text": [
      "0\n",
      "[1, 2, 3, 0, 5]\n"
     ]
    }
   ],
   "source": [
    "list_y = [1,2,3,4,5]\n",
    "list_y[3] = 0\n",
    "print(list_y[3])\n",
    "print(list_y)"
   ]
  },
  {
   "cell_type": "code",
   "execution_count": 16,
   "id": "a84bbbcf",
   "metadata": {},
   "outputs": [
    {
     "name": "stdout",
     "output_type": "stream",
     "text": [
      "[1, 2, 3, 0, 5]\n"
     ]
    }
   ],
   "source": [
    "def list_change(list_parameter):\n",
    "    list_parameter[3] = 0\n",
    "list_y = [1,2,3,4,5]\n",
    "list_change(list_y)\n",
    "print(list_y)"
   ]
  },
  {
   "cell_type": "code",
   "execution_count": 18,
   "id": "29a0224b",
   "metadata": {},
   "outputs": [
    {
     "name": "stdout",
     "output_type": "stream",
     "text": [
      "사람 한 명을 소개합니다\n",
      "영훈님은 10살이고 남자입니다\n",
      "사람 한 명을 소개합니다\n",
      "윤수님은 20살이고 남자입니다\n",
      "True\n",
      "False\n"
     ]
    }
   ],
   "source": []
  },
  {
   "cell_type": "markdown",
   "id": "ff5438ec",
   "metadata": {},
   "source": [
    "## 클래스 연습문제 완벽히 이해함\n",
    "혼자 짤 수 있다."
   ]
  },
  {
   "cell_type": "code",
   "execution_count": 32,
   "id": "2fe86bce",
   "metadata": {
    "scrolled": true
   },
   "outputs": [
    {
     "name": "stdout",
     "output_type": "stream",
     "text": [
      "이름 :yongyong, 나이 :33살, 지역 : Seoul\n",
      "yongyong은 성년입니다.\n",
      "juyeong은 미성년자입니다.\n",
      "이름 :juyeong, 나이 :19살, 지역 : Seoul\n"
     ]
    }
   ],
   "source": [
    "#객체 지향 프로그래밍으로 어떤 사람이 미성년자인지 아닌지 \n",
    "#구분하는 것을 만들어라 class 사용\n",
    "\n",
    "class Person:\n",
    "    def __init__(self, name, age, address):\n",
    "        self.name = name\n",
    "        self.age = age\n",
    "        self. address = address\n",
    "        \n",
    "    def info(self):\n",
    "        print(f'이름 :{self.name}, 나이 :{self.age}살, 지역 : {self.address}')\n",
    "        \n",
    "    def over_lower(self):\n",
    "        if self.age > 20:\n",
    "            print(f'{self.name}은 성년입니다.')\n",
    "        else:\n",
    "            print(f'{self.name}은 미성년자입니다.')\n",
    "\n",
    "yongyong = Person('yongyong', 33, 'Seoul')\n",
    "juyeong = Person('juyeong',19, 'Seoul')\n",
    "\n",
    "yongyong.info()\n",
    "yongyong.over_lower()\n",
    "\n",
    "juyeong.over_lower()\n",
    "juyeong.info()"
   ]
  },
  {
   "cell_type": "markdown",
   "id": "17238ffa",
   "metadata": {},
   "source": [
    "# max, min 함수"
   ]
  },
  {
   "cell_type": "code",
   "execution_count": 29,
   "id": "02e79939",
   "metadata": {},
   "outputs": [
    {
     "name": "stdout",
     "output_type": "stream",
     "text": [
      "5\n",
      "7\n",
      "2\n",
      "2\n"
     ]
    }
   ],
   "source": [
    "print(max(2, 5))             # => 5\n",
    "print(max(2, 7, 5))          # => 7\n",
    "print(min(2, 5))             # => 2\n",
    "print(min(2, 7, 5, 11, 6))   # => 2"
   ]
  },
  {
   "cell_type": "markdown",
   "id": "f388b87f",
   "metadata": {},
   "source": [
    "# sum 함수"
   ]
  },
  {
   "cell_type": "code",
   "execution_count": 30,
   "id": "8cdb4f38",
   "metadata": {},
   "outputs": [
    {
     "name": "stdout",
     "output_type": "stream",
     "text": [
      "15\n",
      "16\n",
      "6\n"
     ]
    }
   ],
   "source": [
    "int_list = [1, 2, 3, 4, 5]\n",
    "int_tuple = (4, 3, 6, 1, 2)\n",
    "int_dict = {1: \"one\", 2: \"two\", 3: \"three\"}\n",
    "    \n",
    "print(sum(int_list))         # => 15\n",
    "print(sum(int_tuple))        # => 16\n",
    "print(sum(int_dict))         # => 6"
   ]
  },
  {
   "cell_type": "markdown",
   "id": "ae1b2647",
   "metadata": {},
   "source": [
    "# list comprehension"
   ]
  },
  {
   "cell_type": "code",
   "execution_count": 33,
   "id": "736bdf3a",
   "metadata": {},
   "outputs": [
    {
     "name": "stdout",
     "output_type": "stream",
     "text": [
      "[1, 4, 9, 16, 25, 36]\n"
     ]
    }
   ],
   "source": [
    "int_list = [1, 2, 3, 4, 5, 6]\n",
    "squares = []\n",
    "    \n",
    "for x in int_list:\n",
    "    squares.append(x**2)\n",
    "    \n",
    "print(squares)               # [1, 4, 9, 16, 25, 36]"
   ]
  },
  {
   "cell_type": "code",
   "execution_count": 34,
   "id": "5be401fc",
   "metadata": {},
   "outputs": [
    {
     "name": "stdout",
     "output_type": "stream",
     "text": [
      "[1, 4, 9, 16, 25, 36]\n"
     ]
    }
   ],
   "source": [
    "int_list = [1, 2, 3, 4, 5, 6]\n",
    "squares = [x**2 for x in int_list]\n",
    "    \n",
    "print(squares)     "
   ]
  },
  {
   "cell_type": "markdown",
   "id": "c6057ea3",
   "metadata": {},
   "source": [
    "# zfill 메소드"
   ]
  },
  {
   "cell_type": "code",
   "execution_count": 35,
   "id": "dd639cb2",
   "metadata": {},
   "outputs": [
    {
     "name": "stdout",
     "output_type": "stream",
     "text": [
      "000001\n",
      "333\n",
      "0000000a\n",
      "000000ab\n",
      "00000abc\n"
     ]
    }
   ],
   "source": [
    "print(\"1\".zfill(6)) # -> 000001\n",
    "print(\"333\".zfill(2)) # -> 333\n",
    "print(\"a\".zfill(8)) # -> 0000000a\n",
    "print(\"ab\".zfill(8)) # -> 000000ab\n",
    "print(\"abc\".zfill(8)) # -> 00000abc"
   ]
  },
  {
   "cell_type": "markdown",
   "id": "3887fe8d",
   "metadata": {},
   "source": [
    "# randint 함수와 uniform 함수"
   ]
  },
  {
   "cell_type": "code",
   "execution_count": 37,
   "id": "aa8cea14",
   "metadata": {},
   "outputs": [
    {
     "name": "stdout",
     "output_type": "stream",
     "text": [
      "5\n"
     ]
    }
   ],
   "source": [
    "from random import randint\n",
    "# 1 <= N <= 20를 만족하는 랜덤한 정수(난수) N을 리턴한다.\n",
    "\n",
    "x = randint(1, 20)\n",
    "print(x)"
   ]
  },
  {
   "cell_type": "code",
   "execution_count": null,
   "id": "560734d4",
   "metadata": {},
   "outputs": [],
   "source": [
    "from random import uniform\n",
    "# 0 <= N <= 1을 만족하는 랜덤한 소수(난수) N을 리턴한다.\n",
    "\n",
    "x = uniform(0, 1)\n",
    "print(x)"
   ]
  },
  {
   "cell_type": "markdown",
   "id": "d3bece40",
   "metadata": {},
   "source": [
    "# 실습 설명(1)\n",
    "올해 코드잇 대학교를 졸업한 영훈이는 배달 어플 회사 “여기오”에 취직했습니다. “여기오”는 고객들이 배달 음식을 주문할 수 있는 어플을 만들려고 합니다. 영훈이가 맡게 된 업무는 어플에서 각 배달 음식 메뉴를 나타낼 클래스를 작성하는 건데요.\n",
    "\n",
    "MenuItem 클래스가 가져야할 다음 조건들을 보고 배달 음식 메뉴를 나타내는 MenuItem 클래스를 정의해 보세요\n",
    "\n",
    "\n",
    "### 출력예시\n",
    "햄버거 가격: 4000 \n",
    "콜라 가격: 1500\n",
    "후렌치 후라이 가격: 1500"
   ]
  },
  {
   "cell_type": "code",
   "execution_count": 43,
   "id": "66a95f09",
   "metadata": {},
   "outputs": [
    {
     "name": "stdout",
     "output_type": "stream",
     "text": [
      "햄버거 가격 : 4000\n",
      "콜라 가격 : 1500\n",
      "후렌치 후라이 가격 : 1500\n"
     ]
    }
   ],
   "source": [
    "#1\n",
    "class MenuItem:\n",
    "    def __init__(self, menu, price):\n",
    "        self.menu = menu\n",
    "        self.price = price\n",
    "    \n",
    "    def order(self):\n",
    "        print(f'{self.menu} 가격 : {self.price}')\n",
    "\n",
    "menu1 = MenuItem('햄버거', 4000)\n",
    "menu2 = MenuItem('콜라', 1500)\n",
    "menu3 = MenuItem('후렌치 후라이', 1500)\n",
    "\n",
    "menu1.order()\n",
    "menu2.order()\n",
    "menu3.order()\n",
    "\n"
   ]
  },
  {
   "cell_type": "code",
   "execution_count": 44,
   "id": "f01d1608",
   "metadata": {},
   "outputs": [
    {
     "name": "stdout",
     "output_type": "stream",
     "text": [
      "햄버거 가격: 4000\n",
      "콜라 가격: 1500\n",
      "후렌치 후라이 가격: 1500\n"
     ]
    }
   ],
   "source": [
    "#2\n",
    "class MenuItem:\n",
    "    def __init__(self, menu, price):\n",
    "        self.menu = menu\n",
    "        self.price = price\n",
    "    \n",
    "    def __str__(self):\n",
    "        return f'{self.menu} 가격: {self.price}'\n",
    "\n",
    "menu1 = MenuItem('햄버거', 4000)\n",
    "menu2 = MenuItem('콜라', 1500)\n",
    "menu3 = MenuItem('후렌치 후라이', 1500)\n",
    "\n",
    "print(menu1)\n",
    "print(menu2)\n",
    "print(menu3)"
   ]
  },
  {
   "cell_type": "markdown",
   "id": "bced82a6",
   "metadata": {},
   "source": [
    "#  실습 설명(2)\n",
    "이번 과제에서는 계산기 클래스를 만들어 볼게요. 이때까지 객체는 속성과 행동을 갖는 존재라고 했습니다. \n",
    "하지만 속성없이 행동만 있는 객체도 있습니다. 이 말은 변수는 없고 메소드만 있는 클래스도 만들 수 있다는 뜻입니다. \n",
    "우리가 배웠던 메소드의 종류는 아래 3가지입니다.\n",
    "\n",
    "인스턴스 메소드\n",
    "클래스 메소드\n",
    "정적 메소드\n",
    "변수가 없는 클래스에서는 무슨 메소드를 써야 할까요? 이전에 우리는 인스턴스 변수나 클래스 변수를 쓰지 않을 거라면 정적 메소드(static method)를 사용해야 한다고 배웠죠? 변수가 없는 클래스에서는 정적 메소드를 정의하면 됩니다.\n",
    "\n",
    "다음 조건들을 보고 계산기 클래스인 SimpleCalculator 클래스의 정적 메소드들을 완성해 보세요.\n",
    "\n",
    "정적 메소드\n",
    "### add: 파라미터로 받은 두 숫자의 합을 리턴한다\n",
    "### subtract: 첫 번째 파라미터에서 두 번째 파라미터를 뺀 값을 리턴한다\n",
    "### multiply: 파라미터로 받은 두 숫자의 곱을 리턴한다\n",
    "### divide: 첫 번째 파라미터를 두 번째 파라미터로 나눈 값을 리턴한다"
   ]
  },
  {
   "cell_type": "code",
   "execution_count": 48,
   "id": "9b94ef47",
   "metadata": {},
   "outputs": [
    {
     "name": "stdout",
     "output_type": "stream",
     "text": [
      "9\n",
      "-1\n",
      "20\n",
      "Error: Cannot divide by zero\n",
      "None\n"
     ]
    }
   ],
   "source": [
    "class SimpleCalculator:\n",
    "    # 계산기 클래스\n",
    "    @staticmethod\n",
    "    def add(first_number, second_number):\n",
    "        # 파라미터로 받는 두 숫자의 합을 리턴한다\n",
    "        return(first_number + second_number)\n",
    "    \n",
    "    @staticmethod\n",
    "    def subtract(first_number, second_number):\n",
    "        # 첫 번째 파라미터에서 두 번째 파라미터를 뺀 값을 리턴한다\n",
    "        return(first_number - second_number)\n",
    "    \n",
    "    @staticmethod\n",
    "    def multiply(first_number, second_number):\n",
    "        # 파라미터로 받는 두 숫자의 곱을 리턴한다\n",
    "        return(first_number * second_number)\n",
    "    \n",
    "    @staticmethod\n",
    "    def divide(num1, num2):\n",
    "        if num2 != 0: #오 .. 좋은 구문인듯?\n",
    "            return num1 / num2\n",
    "        else:\n",
    "            print(\"Error: Cannot divide by zero\")\n",
    "    \n",
    "    \n",
    "# 계산기 인스턴스 생성\n",
    "calculator = SimpleCalculator()\n",
    "    \n",
    "# 계산기 연산 호출\n",
    "print(calculator.add(4, 5))\n",
    "print(calculator.subtract(4, 5))\n",
    "print(calculator.multiply(4, 5))\n",
    "print(calculator.divide(4, 0))"
   ]
  },
  {
   "cell_type": "markdown",
   "id": "44f38e32",
   "metadata": {},
   "source": [
    "# 실습설명(3)\n",
    "\n",
    "실습 설명\n",
    "한국의 최대 온라인 게임업체 넥손에서 일하는 대위는 최근 새 프로젝트인 ‘은행스토리’에 개발자로 참여하게 되었는데요. 대위가 맡은 부분은 게임 캐릭터를 ‘클래스’로 작성하는 것입니다. 이미 객체의 속성과 행동을 어떻게 할지에 대해서는 생각을 마친 상태입니다.\n",
    "\n",
    "다음 조건들과 출력 예시에 맞게 GameCharacter클래스를 작성하세요.\n",
    "\n",
    "인스턴스 변수(타입)\n",
    "\n",
    "name(문자열): 캐릭터의 이름\n",
    "hp(숫자형): 캐릭터의 체력\n",
    "power(숫자형): 캐릭터의 공격력\n",
    "인스턴스 메소드\n",
    "\n",
    "__init__: 사용할 모든 인스턴스 변수를 설정한다.\n",
    "is_alive: 게임 캐릭터의 체력이 0보다 큰지(살았는지 죽었는지) 확인한다.\n",
    "0 초과이면 True를, 0 이하라면 False를 리턴한다.\n",
    "get_attacked: 게임 캐릭터의 체력이 0보다 큰 상태라면 파라미터로 받은 공격력만큼 체력을 깎는다.\n",
    "조건:\n",
    "is_alive 메소드를 사용해서 인스턴스가 살아있을 때만 체력을 깎는다. 이미 캐릭터가 죽었으면 죽었다는 메시지를 출력한다.\n",
    "남은 체력보다 공격력이 더 크면 체력(hp)을 0으로 설정한다.\n",
    "attack: 파라미터로 받은 다른 캐릭터의 체력을 자신의 공격력만큼 깎는다.\n",
    "조건:\n",
    "is_alive 메소드를 이용해서 살아있는 인스턴스만 공격을 할 수 있도록 한다.\n",
    "get_attacked 메소드를 사용한다.\n",
    "__str__: 게임 캐릭터의 의미있는 정보를 포함한 문자열을 리턴한다\n",
    "\n",
    "## 실습결과\n",
    "* Ww영훈전사wW님은 이미 죽었습니다.\n",
    "* Ww영훈전사wW님의 hp는 0만큼 남았습니다.\n",
    "* Xx지웅최고xX님의 hp는 70만큼 남았습니다."
   ]
  },
  {
   "cell_type": "code",
   "execution_count": 59,
   "id": "f47fab2c",
   "metadata": {},
   "outputs": [
    {
     "ename": "NameError",
     "evalue": "name 'damgage' is not defined",
     "output_type": "error",
     "traceback": [
      "\u001b[1;31m--------------------------------------------------\u001b[0m",
      "\u001b[1;31mNameError\u001b[0m        Traceback (most recent call last)",
      "Cell \u001b[1;32mIn[59], line 32\u001b[0m\n\u001b[0;32m     29\u001b[0m character_2 \u001b[38;5;241m=\u001b[39m GameCharacter(\u001b[38;5;124m\"\u001b[39m\u001b[38;5;124m지훈전사\u001b[39m\u001b[38;5;124m\"\u001b[39m, \u001b[38;5;241m100\u001b[39m, \u001b[38;5;241m50\u001b[39m)\n\u001b[0;32m     31\u001b[0m \u001b[38;5;66;03m#z캐릭터 인스턴스들 서로 공격\u001b[39;00m\n\u001b[1;32m---> 32\u001b[0m \u001b[43mcharacter_1\u001b[49m\u001b[38;5;241;43m.\u001b[39;49m\u001b[43mattack\u001b[49m\u001b[43m(\u001b[49m\u001b[43mcharacter_2\u001b[49m\u001b[43m)\u001b[49m\n\u001b[0;32m     33\u001b[0m character_2\u001b[38;5;241m.\u001b[39mattack(character_1)\n\u001b[0;32m     34\u001b[0m character_2\u001b[38;5;241m.\u001b[39mattack(character_1)\n",
      "Cell \u001b[1;32mIn[59], line 23\u001b[0m, in \u001b[0;36mGameCharacter.attack\u001b[1;34m(self, other_character)\u001b[0m\n\u001b[0;32m     21\u001b[0m \u001b[38;5;28;01mdef\u001b[39;00m \u001b[38;5;21mattack\u001b[39m(\u001b[38;5;28mself\u001b[39m, other_character):\n\u001b[0;32m     22\u001b[0m     \u001b[38;5;28;01mif\u001b[39;00m \u001b[38;5;28mself\u001b[39m\u001b[38;5;241m.\u001b[39mis_alive():\n\u001b[1;32m---> 23\u001b[0m         \u001b[43mother_character\u001b[49m\u001b[38;5;241;43m.\u001b[39;49m\u001b[43mget_attacked\u001b[49m\u001b[43m(\u001b[49m\u001b[38;5;28;43mself\u001b[39;49m\u001b[38;5;241;43m.\u001b[39;49m\u001b[43mpower\u001b[49m\u001b[43m)\u001b[49m\n",
      "Cell \u001b[1;32mIn[59], line 13\u001b[0m, in \u001b[0;36mGameCharacter.get_attacked\u001b[1;34m(self, damage)\u001b[0m\n\u001b[0;32m     11\u001b[0m \u001b[38;5;28;01mdef\u001b[39;00m \u001b[38;5;21mget_attacked\u001b[39m(\u001b[38;5;28mself\u001b[39m, damage):\n\u001b[0;32m     12\u001b[0m     \u001b[38;5;28;01mif\u001b[39;00m \u001b[38;5;28mself\u001b[39m\u001b[38;5;241m.\u001b[39mis_alive():\n\u001b[1;32m---> 13\u001b[0m         \u001b[38;5;28;01mif\u001b[39;00m \u001b[38;5;28mself\u001b[39m\u001b[38;5;241m.\u001b[39mhp \u001b[38;5;241m>\u001b[39m\u001b[38;5;241m=\u001b[39m \u001b[43mdamgage\u001b[49m:\n\u001b[0;32m     14\u001b[0m             selp\u001b[38;5;241m.\u001b[39mhp \u001b[38;5;241m=\u001b[39m selp\u001b[38;5;241m.\u001b[39mhp \u001b[38;5;241m-\u001b[39m damage\n\u001b[0;32m     15\u001b[0m         \u001b[38;5;28;01melse\u001b[39;00m:\n",
      "\u001b[1;31mNameError\u001b[0m: name 'damgage' is not defined"
     ]
    }
   ],
   "source": [
    "# 복습필요\n",
    "class GameCharacter:\n",
    "    def __init__(self, name, hp, power):\n",
    "        self.name = name\n",
    "        self.hp = hp\n",
    "        self.power = power\n",
    "        \n",
    "    def is_alive(self):\n",
    "        return self.hp > 0\n",
    "    #공격받는 메소드\n",
    "    def get_attacked(self, damage):\n",
    "        if self.is_alive():\n",
    "            if self.hp >= damgage:\n",
    "                selp.hp = selp.hp - damage\n",
    "            else:\n",
    "                self.hp = 0\n",
    "            \n",
    "        else:\n",
    "            print(f'{self.name}은 이미 죽었습니다.')\n",
    "     #공격하는 메소드       \n",
    "    def attack(self, other_character):\n",
    "        if self.is_alive():\n",
    "            other_character.get_attacked(self.power)\n",
    "    def __str__(self):\n",
    "        return self.name + \"님의 hp 는\" + str(self.hp) + \"만큼 남았습니다.\"\n",
    "                  \n",
    "#게임 캐릭터 인스턴스 생성\n",
    "character_1 = GameCharacter(\"영훈전사\", 200, 30)\n",
    "character_2 = GameCharacter(\"지훈전사\", 100, 50)\n",
    "\n",
    "#z캐릭터 인스턴스들 서로 공격\n",
    "character_1.attack(character_2)\n",
    "character_2.attack(character_1)\n",
    "character_2.attack(character_1)\n",
    "character_2.attack(character_1)\n",
    "character_2.attack(character_1)\n",
    "character_2.attack(character_21)\n",
    "                  \n",
    "print(character_1)\n",
    "print(character_2)\n",
    "            "
   ]
  },
  {
   "cell_type": "code",
   "execution_count": null,
   "id": "2d54aa0a",
   "metadata": {},
   "outputs": [],
   "source": []
  }
 ],
 "metadata": {
  "kernelspec": {
   "display_name": "Python 3 (ipykernel)",
   "language": "python",
   "name": "python3"
  },
  "language_info": {
   "codemirror_mode": {
    "name": "ipython",
    "version": 3
   },
   "file_extension": ".py",
   "mimetype": "text/x-python",
   "name": "python",
   "nbconvert_exporter": "python",
   "pygments_lexer": "ipython3",
   "version": "3.10.9"
  }
 },
 "nbformat": 4,
 "nbformat_minor": 5
}
