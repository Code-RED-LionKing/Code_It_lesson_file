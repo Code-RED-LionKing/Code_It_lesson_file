{
 "cells": [
  {
   "cell_type": "code",
   "execution_count": 1,
   "id": "45d1ea7a",
   "metadata": {},
   "outputs": [],
   "source": [
    "import numpy as np\n",
    "array1 = np.array([2, 3, 5, 7, 11, 13, 17, 19, 31])"
   ]
  },
  {
   "cell_type": "code",
   "execution_count": 2,
   "id": "ff7e8392",
   "metadata": {},
   "outputs": [
    {
     "data": {
      "text/plain": [
       "array([False, False,  True,  True,  True,  True,  True,  True,  True])"
      ]
     },
     "execution_count": 2,
     "metadata": {},
     "output_type": "execute_result"
    }
   ],
   "source": [
    "array1>4"
   ]
  },
  {
   "cell_type": "code",
   "execution_count": 3,
   "id": "b740a097",
   "metadata": {},
   "outputs": [
    {
     "data": {
      "text/plain": [
       "array([ True, False, False, False, False, False, False, False, False])"
      ]
     },
     "execution_count": 3,
     "metadata": {},
     "output_type": "execute_result"
    }
   ],
   "source": [
    "array1 % 2 == 0"
   ]
  },
  {
   "cell_type": "markdown",
   "id": "e62b3f0d",
   "metadata": {},
   "source": [
    "### Boolean 값이 담긴 numpy array 를 만들어보았다\n",
    "### 이번에는 numbpyarray를 만들어보자."
   ]
  },
  {
   "cell_type": "code",
   "execution_count": 9,
   "id": "51823128",
   "metadata": {},
   "outputs": [],
   "source": [
    "booleans = np.array([True, True, False, False, True])"
   ]
  },
  {
   "cell_type": "code",
   "execution_count": 12,
   "id": "16dd1fe0",
   "metadata": {},
   "outputs": [
    {
     "data": {
      "text/plain": [
       "(array([0, 1, 4], dtype=int64),)"
      ]
     },
     "execution_count": 12,
     "metadata": {},
     "output_type": "execute_result"
    }
   ],
   "source": [
    "np.where(booleans)"
   ]
  },
  {
   "cell_type": "markdown",
   "id": "3788e993",
   "metadata": {},
   "source": [
    "## 문제\n",
    "## 영훈이가 창업한 흥부부대찌개 신주쿠점은 이제 직장인들에게 소문난 맛집입니다. 그러나 매일같이 성공적인 것은 아닙니다. 목표 일 매출을 달성하지 못하는 날들이 아직 꽤 있거든요. 영훈이가 생각하는 성공적인 하루 매출은 20만 엔입니다.\n",
    "\n",
    "## 성공적이지 않은 날의 매출만 골라서 보고 싶습니다. 20만 엔 이하의 매출만 담긴 numpy array를 출력해주세요.\n",
    "## 반복문은 사용하면 안 됩니다!\n",
    "\n",
    "## 주의 사항: 자동 채점 과제입니다. 정답 출력 코드는 print 없이 작성해 주세요. (예시: bad_days_revenue)"
   ]
  },
  {
   "cell_type": "code",
   "execution_count": 30,
   "id": "e6c0a31b",
   "metadata": {},
   "outputs": [
    {
     "data": {
      "text/plain": [
       "array([140000, 180000, 170000, 140000, 150000, 110000, 150000, 130000])"
      ]
     },
     "execution_count": 30,
     "metadata": {},
     "output_type": "execute_result"
    }
   ],
   "source": [
    "import numpy as np\n",
    "\n",
    "revenue_in_yen = [\n",
    "    300000, 340000, 320000, 360000, \n",
    "    440000, 140000, 180000, 340000, \n",
    "    330000, 290000, 280000, 380000, \n",
    "    170000, 140000, 230000, 390000, \n",
    "    400000, 350000, 380000, 150000, \n",
    "    110000, 240000, 380000, 380000, \n",
    "    340000, 420000, 150000, 130000, \n",
    "    360000, 320000, 250000\n",
    "]\n",
    "\n",
    "# 풀이1\n",
    "Today_I_Earned = np.array(revenue_in_yen)\n",
    "filter = np.where(Today_I_Earned<200000)\n",
    "filter #여기까지하고 filter확인하면 (array([ 5,  6, 12, 13, 19, 20, 26, 27]),) 이게나옴\n",
    "Today_I_Earned = Today_I_Earned[filter]\n",
    "Today_I_Earned \n",
    "\n",
    "# 풀이2\n",
    "\n",
    "yen_array = np.array(revenue_in_yen)\n",
    "bad_days_revenue = yen_array[yen_array<= 200000]\n",
    "bad_days_revenue\n",
    "\n"
   ]
  },
  {
   "cell_type": "markdown",
   "id": "e9259624",
   "metadata": {},
   "source": [
    "---\n",
    "### 최대값"
   ]
  },
  {
   "cell_type": "code",
   "execution_count": 31,
   "id": "a053cbc2",
   "metadata": {},
   "outputs": [
    {
     "name": "stdout",
     "output_type": "stream",
     "text": [
      "31\n",
      "5\n"
     ]
    }
   ],
   "source": [
    "import numpy as np\n",
    "\n",
    "array1 = np.array([14, 6, 13, 21, 23, 31, 9, 5])\n",
    "\n",
    "print(array1.max()) #최대값 구하기\n",
    "print(array1.min()) #최소값 구하기\n"
   ]
  },
  {
   "cell_type": "markdown",
   "id": "ae56c4f8",
   "metadata": {},
   "source": [
    "### 최소값"
   ]
  },
  {
   "cell_type": "code",
   "execution_count": 33,
   "id": "1eb654a4",
   "metadata": {},
   "outputs": [
    {
     "name": "stdout",
     "output_type": "stream",
     "text": [
      "15.25\n"
     ]
    }
   ],
   "source": [
    "import numpy as np\n",
    "\n",
    "array1 = np.array([14, 6, 13, 21, 23, 31, 9, 5])\n",
    "\n",
    "print(array1.mean()) #평균값 구하기"
   ]
  },
  {
   "cell_type": "markdown",
   "id": "fd9d0316",
   "metadata": {},
   "source": [
    "## 중앙값\n",
    "#### median 메소드를 사용하면 중간값을 구할 수 있는데요. 특이하게 median은 numpy array의 메소드가 아니라 numpy의 메소드입니다."
   ]
  },
  {
   "cell_type": "code",
   "execution_count": 38,
   "id": "3668ea0c",
   "metadata": {},
   "outputs": [
    {
     "name": "stdout",
     "output_type": "stream",
     "text": [
      "12.0\n",
      "13.5\n"
     ]
    }
   ],
   "source": [
    "import numpy as np\n",
    "\n",
    "array1 = np.array([8, 12, 9, 15, 16])\n",
    "array2 = np.array([14, 6, 13, 21, 23, 31, 9, 5])\n",
    "\n",
    "print(np.median(array1)) #중앙값\n",
    "print(np.median(array2)) #중앙값"
   ]
  },
  {
   "cell_type": "markdown",
   "id": "a7230843",
   "metadata": {},
   "source": [
    "#### array1을 정렬하면 중앙값이 12 입니다.\n",
    "#### array2에는 짝수개의 요소가 있기 때문에 중앙값이 13과 14 두개 둘의 평균은 13.5"
   ]
  },
  {
   "cell_type": "markdown",
   "id": "44860a14",
   "metadata": {},
   "source": [
    "---\n",
    "## 표준 편차, 분산"
   ]
  },
  {
   "cell_type": "code",
   "execution_count": 41,
   "id": "1093b29f",
   "metadata": {},
   "outputs": [
    {
     "name": "stdout",
     "output_type": "stream",
     "text": [
      "8.496322733983215\n",
      "72.1875\n"
     ]
    }
   ],
   "source": [
    "import numpy as np\n",
    "\n",
    "array1 = np.array([14, 6, 13, 21, 23, 31, 9 ,5])\n",
    "\n",
    "print(array1.std()) #표준 편차\n",
    "print(array1.var()) #분산"
   ]
  },
  {
   "cell_type": "code",
   "execution_count": null,
   "id": "47482101",
   "metadata": {},
   "outputs": [],
   "source": []
  }
 ],
 "metadata": {
  "kernelspec": {
   "display_name": "Python 3 (ipykernel)",
   "language": "python",
   "name": "python3"
  },
  "language_info": {
   "codemirror_mode": {
    "name": "ipython",
    "version": 3
   },
   "file_extension": ".py",
   "mimetype": "text/x-python",
   "name": "python",
   "nbconvert_exporter": "python",
   "pygments_lexer": "ipython3",
   "version": "3.10.9"
  }
 },
 "nbformat": 4,
 "nbformat_minor": 5
}
